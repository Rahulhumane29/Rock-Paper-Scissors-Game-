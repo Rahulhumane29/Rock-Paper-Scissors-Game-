{
 "cells": [
  {
   "cell_type": "code",
   "execution_count": 16,
   "id": "00dc0c28",
   "metadata": {},
   "outputs": [
    {
     "name": "stdout",
     "output_type": "stream",
     "text": [
      "Comp Turn: Rock(r) Paper(p) or Scissors(s)?\n",
      "Your Turn: Rock(r) Paper(p) or Scissors(s)? p\n",
      "Computer chose s\n",
      "You chose p\n",
      "You Lose!\n"
     ]
    }
   ],
   "source": [
    "import random\n",
    "\n",
    "# Rock Paper Scissors\n",
    "def gameWin(comp, you):\n",
    "    # If two values are equal, declare a tie!\n",
    "    if comp == you:\n",
    "        return None\n",
    "\n",
    "    elif comp == 'r':\n",
    "        if you=='s':\n",
    "            return False\n",
    "        elif you=='p':\n",
    "            return True\n",
    "    \n",
    "    elif comp == 'p':\n",
    "        if you=='r':\n",
    "            return False\n",
    "        elif you=='s':\n",
    "            return True\n",
    "    elif comp == 's':\n",
    "        if you=='p':\n",
    "            return False\n",
    "        elif you=='r':\n",
    "            return True\n",
    "\n",
    "print(\"Comp Turn: Rock(r) Paper(p) or Scissors(s)?\")\n",
    "randNo = random.randint(1, 3) \n",
    "if randNo == 1:\n",
    "    comp = 'r'\n",
    "elif randNo == 2:\n",
    "    comp = 'p'\n",
    "elif randNo == 3:\n",
    "    comp = 's'\n",
    "\n",
    "you = input(\"Your Turn: Rock(r) Paper(p) or Scissors(s)? \")\n",
    "a = gameWin(comp, you)\n",
    "\n",
    "print(f\"Computer chose {comp}\")\n",
    "print(f\"You chose {you}\")\n",
    "\n",
    "if a == None:\n",
    "    print(\"The game is a tie!\")\n",
    "elif a:\n",
    "    print(\"You Win!\")\n",
    "else:\n",
    "    print(\"You Lose!\")\n",
    "    "
   ]
  },
  {
   "cell_type": "code",
   "execution_count": null,
   "id": "3abe9245",
   "metadata": {},
   "outputs": [],
   "source": []
  }
 ],
 "metadata": {
  "kernelspec": {
   "display_name": "Python 3 (ipykernel)",
   "language": "python",
   "name": "python3"
  },
  "language_info": {
   "codemirror_mode": {
    "name": "ipython",
    "version": 3
   },
   "file_extension": ".py",
   "mimetype": "text/x-python",
   "name": "python",
   "nbconvert_exporter": "python",
   "pygments_lexer": "ipython3",
   "version": "3.9.12"
  }
 },
 "nbformat": 4,
 "nbformat_minor": 5
}
